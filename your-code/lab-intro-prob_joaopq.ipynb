{
 "cells": [
  {
   "cell_type": "markdown",
   "metadata": {},
   "source": [
    "# Introduction To Probability\n",
    "## Challenge 1\n",
    "\n",
    "A and B are events of a probability space with $(\\omega, \\sigma, P)$ such that $P(A) = 0.3$, $P(B) = 0.6$ and $P(A \\cap B) = 0.1$\n",
    "\n",
    "Which of the following statements are false?\n",
    "* $P(A \\cup B) = 0.6$\n",
    "* $P(A \\cap B^{C}) = 0.2$\n",
    "* $P(A \\cap (B \\cup B^{C})) = 0.4$\n",
    "* $P(A^{C} \\cap B^{C}) = 0.3$\n",
    "* $P((A \\cap B)^{C}) = 0.9$"
   ]
  },
  {
   "cell_type": "code",
   "execution_count": 1,
   "metadata": {},
   "outputs": [],
   "source": [
    "\"\"\"\n",
    "your solution here - - - - - HERE IT GOES!\n",
    "\"\"\"\n",
    "'''\n",
    "𝑃(𝐴∪𝐵)=0.6 - WRONG. this one is 0,8 (𝑃(𝐴∪𝐵)=𝑃(𝐴)+𝑃(𝐵)-𝑃(𝐴∩𝐵)=0,3+0,6-0,1\n",
    "\n",
    "𝑃(𝐴∩𝐵𝐶)=0.2 TRUE. A doesn't intersect with outside of B, so it's true. 𝑃(𝐴∩𝐵𝐶)=(𝑃(𝐴)-𝑃(𝐴∩𝐵)=0.1\n",
    "\n",
    "𝑃(𝐴∩(𝐵∪𝐵𝐶))=0.4 FALSE. This is equal to 𝑃(𝐴), which is 0.3 and NOT 0,4!\n",
    "\n",
    "𝑃(𝐴𝐶∩𝐵𝐶)=0.3 FALSE. This is equal to 0.2. Since B and A intersect, we can fairly say that this is equal to 0.2.\n",
    "𝑃(𝐴𝐶∩𝐵𝐶)=𝑃(𝐴)-𝑃(𝐴∩𝐵)=0.3-0.1=0.2\n",
    "\n",
    "𝑃((𝐴∩𝐵)𝐶)=0.9 TRUE. We can conclude this since 1-𝑃(𝐴∩𝐵) = 1-0.1=0.9\n",
    "\n",
    "''' "
   ]
  },
  {
   "cell_type": "markdown",
   "metadata": {},
   "source": [
    "## Challenge 2\n",
    "There is a box with 10 white balls, 12 red balls and 8 black balls. Calculate the probability of:\n",
    "* Taking a white ball out.\n",
    "* Taking a white ball out after taking a black ball out.\n",
    "* Taking a red ball out after taking a black and a red ball out.\n",
    "* Taking a red ball out after taking a black and a red ball out with reposition.\n",
    "\n",
    "**Hint**: Reposition means putting back the ball into the box after taking it out."
   ]
  },
  {
   "cell_type": "code",
   "execution_count": 2,
   "metadata": {},
   "outputs": [],
   "source": [
    "\"\"\"\n",
    "your solution here\n",
    "\"\"\"\n",
    "'''\n",
    "For this the best way to address is by doing a tree map.\n",
    "'''\n",
    "w_balls=10\n",
    "r_balls=12\n",
    "b_balls=8\n",
    "initial_cardinality=w_balls+r_balls+b_balls"
   ]
  },
  {
   "cell_type": "code",
   "execution_count": 3,
   "metadata": {},
   "outputs": [],
   "source": [
    "'''\n",
    "1. Taking a white ball out.\n",
    "'''\n",
    "prob_white_ball_1=w_balls/(initial_cardinality)\n",
    "\n",
    "print(\"prob equals: \"+str(prob_white_ball_1))"
   ]
  },
  {
   "cell_type": "code",
   "execution_count": 4,
   "metadata": {},
   "outputs": [],
   "source": [
    "'''\n",
    "2. Taking a white ball out after taking a black ball out.\n",
    "Answer: \n",
    "'''\n",
    "prob_black_ball=b_balls/(initial_cardinality-1)\n",
    "prob_white_ball=w_balls/(initial_cardinality)\n",
    "ans_2=prob_black_ball*prob_white_ball\n",
    "\n",
    "print(\"prob equals: \"+str(ans_2))"
   ]
  },
  {
   "cell_type": "code",
   "execution_count": 5,
   "metadata": {},
   "outputs": [],
   "source": [
    "'''\n",
    "3. Taking a red ball out after taking a black and a red ball out.\n",
    "Answer: \n",
    "'''\n",
    "prob_red_ball_3=(r_balls-1)/(initial_cardinality-2)\n",
    "prob_black_ball_2=b_balls/(initial_cardinality-1)\n",
    "prob_red_ball_1=r_balls/(initial_cardinality)\n",
    "ans_3=prob_red_ball_1*prob_black_ball_2*prob_red_ball_3\n",
    "\n",
    "print(\"prob equals: \"+str(ans_3))"
   ]
  },
  {
   "cell_type": "code",
   "execution_count": 6,
   "metadata": {},
   "outputs": [],
   "source": [
    "'''\n",
    "4. Taking a red ball out after taking a black and a red ball out with reposition.\n",
    "Answer: \n",
    "\n",
    "'''\n",
    "prob_red_ball_3=(r_balls)/(initial_cardinality)\n",
    "prob_black_ball_2=b_balls/(initial_cardinality)\n",
    "prob_red_ball_1=r_balls/(initial_cardinality)\n",
    "ans_4=prob_red_ball_1*prob_black_ball_2*prob_red_ball_3\n",
    "\n",
    "print(\"prob equals: \"+str(ans_4))"
   ]
  },
  {
   "cell_type": "markdown",
   "metadata": {},
   "source": [
    "## Challenge 3\n",
    "\n",
    "You are planning to go on a picnic today but the morning is cloudy. You hate rain so you don't know whether to go out or stay home! To help you make a decision, you gather the following data about rainy days:\n",
    "\n",
    "* Knowing that it is a rainy day, the probability of cloudy is 50%!\n",
    "* The probability of any day (rainy or not) starting off cloudy is 40%. \n",
    "* This month is usually dry so only 3 of 30 days (10%) tend to be rainy. \n",
    "\n",
    "What is the probability of rain, given the day started cloudy?"
   ]
  },
  {
   "cell_type": "code",
   "execution_count": 7,
   "metadata": {},
   "outputs": [],
   "source": [
    "\"\"\"\n",
    "your solution here\n",
    "\"\"\"\n",
    "'''\n",
    "Event A: rainy day\n",
    "Event B: cloudy day\n",
    "\n",
    "𝑃(𝐵|A)=0.5 \n",
    "P(B)=0.4\n",
    "P(A)=0.1\n",
    "\n",
    "Question: 𝑃(A|B) ?\n",
    "Thru bayes' theorem we know:\n",
    "P(A|B)=P(B|A)*P(A)/P(B)\n",
    "\n",
    "'''\n",
    "Answer=(0.5*0.1)/0.4\n",
    "print(\"prob is: \"+str(Answer))"
   ]
  },
  {
   "cell_type": "markdown",
   "metadata": {},
   "source": [
    "## Challenge 4\n",
    "\n",
    "One thousand people were asked through a telephone survey whether they thought more street lighting is needed at night or not.\n",
    "\n",
    "Out of the 480 men that answered the survey, 324 said yes and 156 said no. On the other hand, out of the 520 women that answered, 351 said yes and 169 said no. \n",
    "\n",
    "We wonder if men and women have a different opinions about the street lighting matter. Is gender relevant or irrelevant to the question?\n",
    "\n",
    "Consider the following events:\n",
    "- The answer is yes, so the person that answered thinks that more street lighting is needed.\n",
    "- The person who answered is a man.\n",
    "\n",
    "We want to know if these events are independent, that is, if the fact of wanting more light depends on whether one is male or female. Are these events independent or not?\n",
    "\n",
    "**Hint**: To clearly compare the answers by gender, it is best to place the data in a table."
   ]
  },
  {
   "cell_type": "code",
   "execution_count": 8,
   "metadata": {},
   "outputs": [],
   "source": [
    "# your code here"
   ]
  },
  {
   "cell_type": "code",
   "execution_count": 9,
   "metadata": {},
   "outputs": [],
   "source": [
    "\"\"\"\n",
    "your solution here\n",
    "\"\"\"\n",
    "M_Y=324 #men who said yes\n",
    "M_N=156 #men who said no\n",
    "M=M_Y+M_N #total men who answered\n",
    "\n",
    "W_Y=351 #women who said yes\n",
    "W_N=169 #women who said no\n",
    "W=W_Y+W_N #total women who answered"
   ]
  },
  {
   "cell_type": "code",
   "execution_count": 10,
   "metadata": {},
   "outputs": [
    {
     "name": "stdout",
     "output_type": "stream",
     "text": [
      "+--------+-----+-------+-------+\n",
      "| Option | Men | Women | 𝗧𝗼𝘁𝗮𝗹 |\n",
      "+--------+-----+-------+-------+\n",
      "|  Yes   | 324 |  351  |  675  |\n",
      "|   No   | 156 |  169  |  325  |\n",
      "| 𝗧𝗼𝘁𝗮𝗹  | 480 |  520  |  1000 |\n",
      "+--------+-----+-------+-------+\n"
     ]
    }
   ],
   "source": [
    "from prettytable import PrettyTable\n",
    "    \n",
    "x=PrettyTable()\n",
    "\n",
    "x.field_names = [\"Option\",\"Men\", \"Women\", \"𝗧𝗼𝘁𝗮𝗹\"]\n",
    "x.add_row([\"Yes\",M_Y, W_Y, 𝗠_𝗬+𝗪_𝗬])\n",
    "x.add_row([\"No\",M_N, W_N, 𝗠_𝗡+𝗪_𝗡])\n",
    "x.add_row([\"𝗧𝗼𝘁𝗮𝗹\",𝗠, 𝗪, 𝗠+𝗪])\n",
    "print(x)"
   ]
  },
  {
   "cell_type": "code",
   "execution_count": 15,
   "metadata": {},
   "outputs": [
    {
     "name": "stdout",
     "output_type": "stream",
     "text": [
      "0.675\n",
      "0.675\n"
     ]
    }
   ],
   "source": [
    "'''\n",
    "p(M_Y)=M_Y/(M_Y+W_Y)\n",
    "'''\n",
    "p__M_Y=M_Y/(𝗠_𝗬+M_N)\n",
    "p__W_Y=W_Y/(W_𝗬+𝗪_N)\n",
    "\n",
    "print(p__M_Y)\n",
    "print(p__W_Y)"
   ]
  },
  {
   "cell_type": "code",
   "execution_count": null,
   "metadata": {},
   "outputs": [],
   "source": [
    "'''\n",
    "Conclusion / Answer: since the probability of a man answering yes is the same as a woman answering yes, then we can\n",
    "conclude that they're independent... there's no interesection whatsoever. At least that's my POV.\n",
    "'''"
   ]
  }
 ],
 "metadata": {
  "kernelspec": {
   "display_name": "Python 3",
   "language": "python",
   "name": "python3"
  },
  "language_info": {
   "codemirror_mode": {
    "name": "ipython",
    "version": 3
   },
   "file_extension": ".py",
   "mimetype": "text/x-python",
   "name": "python",
   "nbconvert_exporter": "python",
   "pygments_lexer": "ipython3",
   "version": "3.7.6"
  }
 },
 "nbformat": 4,
 "nbformat_minor": 2
}
